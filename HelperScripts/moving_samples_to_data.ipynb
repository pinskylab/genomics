{
 "cells": [
  {
   "cell_type": "code",
   "execution_count": 1,
   "metadata": {},
   "outputs": [
    {
     "name": "stdout",
     "output_type": "stream",
     "text": [
      "amphiprion_local_backup  lost+found  MolEcol_012218.tar.bz2\r\n"
     ]
    }
   ],
   "source": [
    "!ls /data"
   ]
  },
  {
   "cell_type": "code",
   "execution_count": 4,
   "metadata": {},
   "outputs": [],
   "source": [
    "!mkdir apcl"
   ]
  },
  {
   "cell_type": "code",
   "execution_count": 6,
   "metadata": {},
   "outputs": [],
   "source": [
    "!mkdir /data/apcl"
   ]
  },
  {
   "cell_type": "code",
   "execution_count": 8,
   "metadata": {},
   "outputs": [],
   "source": [
    "%%bash\n",
    "cd /data/apcl\n",
    "mkdir 03seq 04seq 05seq 07seq 08seq 09seq 12seq 13seq 15seq 16seq 17seq 28seq 29seq 30seq 31seq all_samples"
   ]
  },
  {
   "cell_type": "code",
   "execution_count": 9,
   "metadata": {},
   "outputs": [
    {
     "name": "stdout",
     "output_type": "stream",
     "text": [
      "03seq  05seq  08seq  12seq  15seq  17seq  29seq  31seq\r\n",
      "04seq  07seq  09seq  13seq  16seq  28seq  30seq  all_samples\r\n"
     ]
    }
   ],
   "source": [
    "!ls /data/apcl"
   ]
  },
  {
   "cell_type": "markdown",
   "metadata": {},
   "source": [
    "## Move sample directories from individual seq folders to /data/apcl"
   ]
  },
  {
   "cell_type": "code",
   "execution_count": 10,
   "metadata": {},
   "outputs": [],
   "source": [
    "!mv 02-apcl-ddocent/03seq/samples /data/apcl/03seq/samples"
   ]
  },
  {
   "cell_type": "code",
   "execution_count": 11,
   "metadata": {},
   "outputs": [
    {
     "name": "stdout",
     "output_type": "stream",
     "text": [
      "CPU times: user 28.8 s, sys: 5.2 s, total: 34 s\n",
      "Wall time: 22min 43s\n"
     ]
    }
   ],
   "source": [
    "%%time\n",
    "!mv 02-apcl-ddocent/04seq/samples /data/apcl/04seq/samples"
   ]
  },
  {
   "cell_type": "code",
   "execution_count": 12,
   "metadata": {},
   "outputs": [],
   "source": [
    "!mv 02-apcl-ddocent/05seq/samples /data/apcl/05seq/samples"
   ]
  },
  {
   "cell_type": "code",
   "execution_count": 13,
   "metadata": {},
   "outputs": [],
   "source": [
    "!mv 02-apcl-ddocent/07seq/samples /data/apcl/07seq/samples"
   ]
  },
  {
   "cell_type": "code",
   "execution_count": 14,
   "metadata": {},
   "outputs": [],
   "source": [
    "!mv 02-apcl-ddocent/08seq/samples /data/apcl/08seq/samples"
   ]
  },
  {
   "cell_type": "code",
   "execution_count": 15,
   "metadata": {},
   "outputs": [],
   "source": [
    "!mv 02-apcl-ddocent/09seq/samples /data/apcl/09seq/samples"
   ]
  },
  {
   "cell_type": "code",
   "execution_count": 16,
   "metadata": {},
   "outputs": [],
   "source": [
    "!mv 02-apcl-ddocent/12seq/samples /data/apcl/12seq/samples"
   ]
  },
  {
   "cell_type": "code",
   "execution_count": 17,
   "metadata": {},
   "outputs": [],
   "source": [
    "!mv 02-apcl-ddocent/13seq/samples /data/apcl/13seq/samples"
   ]
  },
  {
   "cell_type": "code",
   "execution_count": 18,
   "metadata": {},
   "outputs": [],
   "source": [
    "!mv 02-apcl-ddocent/15seq/samples /data/apcl/15seq/samples"
   ]
  },
  {
   "cell_type": "code",
   "execution_count": 19,
   "metadata": {},
   "outputs": [],
   "source": [
    "!mv 02-apcl-ddocent/16seq/samples /data/apcl/16seq/samples"
   ]
  },
  {
   "cell_type": "code",
   "execution_count": 20,
   "metadata": {},
   "outputs": [],
   "source": [
    "!mv 02-apcl-ddocent/17seq/samples /data/apcl/17seq/samples"
   ]
  },
  {
   "cell_type": "code",
   "execution_count": 21,
   "metadata": {},
   "outputs": [],
   "source": [
    "!mv 02-apcl-ddocent/28seq/samples /data/apcl/28seq/samples"
   ]
  },
  {
   "cell_type": "code",
   "execution_count": 22,
   "metadata": {},
   "outputs": [],
   "source": [
    "!mv 02-apcl-ddocent/29seq/samples /data/apcl/29seq/samples"
   ]
  },
  {
   "cell_type": "code",
   "execution_count": 1,
   "metadata": {},
   "outputs": [],
   "source": [
    "!mv 02-apcl-ddocent/30seq/samples /data/apcl/30seq/samples"
   ]
  },
  {
   "cell_type": "code",
   "execution_count": null,
   "metadata": {},
   "outputs": [],
   "source": [
    "#!mv 02-apcl-ddocent/31seq/samples /data/apcl/31seq/samples - already moved samples during renaming script"
   ]
  },
  {
   "cell_type": "code",
   "execution_count": 7,
   "metadata": {},
   "outputs": [
    {
     "name": "stdout",
     "output_type": "stream",
     "text": [
      "03seq  07seq  12seq  16seq  29seq  APCL_analysis\t  regenos\r\n",
      "04seq  08seq  13seq  17seq  30seq  jonsfiles\t\t  test_notebook\r\n",
      "05seq  09seq  15seq  28seq  31seq  ReferenceOpt_amend.sh  ustacks.sh\r\n"
     ]
    }
   ],
   "source": [
    "!ls 02-apcl-ddocent"
   ]
  },
  {
   "cell_type": "code",
   "execution_count": null,
   "metadata": {},
   "outputs": [],
   "source": []
  }
 ],
 "metadata": {
  "kernelspec": {
   "display_name": "Python 3",
   "language": "python",
   "name": "python3"
  },
  "language_info": {
   "codemirror_mode": {
    "name": "ipython",
    "version": 3
   },
   "file_extension": ".py",
   "mimetype": "text/x-python",
   "name": "python",
   "nbconvert_exporter": "python",
   "pygments_lexer": "ipython3",
   "version": "3.6.4"
  }
 },
 "nbformat": 4,
 "nbformat_minor": 2
}
