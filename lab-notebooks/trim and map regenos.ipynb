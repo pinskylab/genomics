{
 "cells": [
  {
   "cell_type": "markdown",
   "metadata": {},
   "source": [
    "## Trim and map the files in the regenos folder - ~10 hours\n",
    "Running this again because some samples did not cat completely the first time around."
   ]
  },
  {
   "cell_type": "code",
   "execution_count": 1,
   "metadata": {},
   "outputs": [
    {
     "name": "stdout",
     "output_type": "stream",
     "text": [
      "dDocent 2.5.5 \n",
      "\n",
      "Contact jpuritz@uri.edu with any problems \n",
      "\n",
      " \n",
      "Checking for required software\n",
      "\n",
      "All required software is installed!\n",
      "\n",
      "dDocent run started Fri Sep 28 16:33:11 EDT 2018 \n",
      "\n",
      "0 individuals are detected. Is this correct? Enter yes or no and press [ENTER]\n",
      "Incorrect Input\n"
     ]
    },
    {
     "name": "stderr",
     "output_type": "stream",
     "text": [
      "bash: line 1: cd: 02-apcl-ddocent/regenos/: No such file or directory\n",
      "cp: cannot stat `../jonsfiles/reference.fasta': No such file or directory\n",
      "/local/home/michelles/14_programs/dDocent/dDocent: line 84: [: 1.0-r82: integer expression expected\n"
     ]
    }
   ],
   "source": [
    "%%bash\n",
    "cd 02-apcl-ddocent/regenos/\n",
    "cp ../jonsfiles/reference.fasta ./\n",
    "dDocent"
   ]
  },
  {
   "cell_type": "markdown",
   "metadata": {},
   "source": [
    "313 individuals, 30, 150, yes, no, yes, no, no"
   ]
  },
  {
   "cell_type": "markdown",
   "metadata": {},
   "source": [
    "dDocent started Fri Sep 28 16:33:18 EDT 2018 \n",
    "\n",
    "dDocent finished Fri Sep 28 23:01:12 EDT 2018 "
   ]
  },
  {
   "cell_type": "markdown",
   "metadata": {},
   "source": [
    "## Second time"
   ]
  },
  {
   "cell_type": "code",
   "execution_count": null,
   "metadata": {},
   "outputs": [],
   "source": [
    "347 individuals\n"
   ]
  }
 ],
 "metadata": {
  "kernelspec": {
   "display_name": "Python 3",
   "language": "python",
   "name": "python3"
  },
  "language_info": {
   "codemirror_mode": {
    "name": "ipython",
    "version": 3
   },
   "file_extension": ".py",
   "mimetype": "text/x-python",
   "name": "python",
   "nbconvert_exporter": "python",
   "pygments_lexer": "ipython3",
   "version": "3.6.4"
  }
 },
 "nbformat": 4,
 "nbformat_minor": 2
}
